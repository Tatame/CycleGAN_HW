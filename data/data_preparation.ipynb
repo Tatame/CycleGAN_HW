{
 "cells": [
  {
   "cell_type": "code",
   "execution_count": 2,
   "id": "dfecbd56-d14f-4292-9d15-b1c43cc81ab9",
   "metadata": {},
   "outputs": [],
   "source": [
    "import os\n",
    "import cv2\n",
    "import matplotlib.pyplot as plt"
   ]
  },
  {
   "cell_type": "code",
   "execution_count": 3,
   "id": "78a59445-3411-4d81-b60f-c2d5152d72f0",
   "metadata": {},
   "outputs": [],
   "source": [
    "# Сделаем все черно-белым для начала\n",
    "\n",
    "#input_folder = \"data/diamonds_bw\"\n",
    "#output_folder = \"data/diamonds_bw/bw\"\n",
    "\n",
    "#os.makedirs(output_folder, exist_ok=True)\n",
    "\n",
    "#for i, filename in enumerate(os.listdir(input_folder)):\n",
    "#    if filename.endswith((\".png\")):\n",
    "#        image = cv2.imread(os.path.join(input_folder, filename))\n",
    "#        bw_image = cv2.cvtColor(image, cv2.COLOR_BGR2GRAY)\n",
    "#        cv2.imwrite(os.path.join(output_folder, f\"{i+1}.png\"), bw_image)"
   ]
  },
  {
   "cell_type": "code",
   "execution_count": 4,
   "id": "c0b8be4c-302b-4c4a-88d7-63120b7af980",
   "metadata": {},
   "outputs": [],
   "source": [
    "# переименуем\n",
    "\n",
    "#input_folder = \"data/diamonds_bw\"\n",
    "#output_folder = \"data/diamonds_bw/color\"\n",
    "\n",
    "#os.makedirs(output_folder, exist_ok=True)\n",
    "\n",
    "#for i, filename in enumerate(os.listdir(input_folder)):\n",
    "#    if filename.endswith((\".png\")):\n",
    "#        image = cv2.imread(os.path.join(input_folder, filename))\n",
    "#        cv2.imwrite(os.path.join(output_folder, f\"{i+1}.png\"), image)"
   ]
  },
  {
   "cell_type": "code",
   "execution_count": 5,
   "id": "96ac7712-30ba-4300-824a-8f2381822215",
   "metadata": {
    "scrolled": true
   },
   "outputs": [],
   "source": [
    "# посмотрим на даннке мозаики и обрежем их\n",
    "\n",
    "#input_folder = \"data/diamonds_bw/diam_bw\"\n",
    "#output_folder = \"data/diamonds_bw/train_B\"\n",
    "\n",
    "#i = 0\n",
    "#for filename in os.listdir(input_folder):\n",
    "#    if filename.endswith((\".png\")):\n",
    "#        image = cv2.imread(os.path.join(input_folder, filename))\n",
    "#        bw_image = cv2.cvtColor(image, cv2.COLOR_BGR2GRAY)\n",
    "#        h, w = bw_image.shape\n",
    "#        cropped_img = bw_image[0:w, 0:w]\n",
    "\n",
    "#        cv2.imwrite(os.path.join(output_folder, f\"{i+1}.png\"), cropped_img)\n",
    "#        i += 1"
   ]
  },
  {
   "cell_type": "code",
   "execution_count": 6,
   "id": "71ced711-3a32-4880-b95f-5032fcacfd3c",
   "metadata": {},
   "outputs": [],
   "source": [
    "# посмотрим на даннке и обрежем их\n",
    "\n",
    "#input_folder = \"data/diamonds_bw/bw\"\n",
    "#output_folder = \"data/diamonds_bw/train_A\"\n",
    "\n",
    "#i = 0\n",
    "#for filename in os.listdir(input_folder):\n",
    "#    if filename.endswith((\".png\")):\n",
    "#        image = cv2.imread(os.path.join(input_folder, filename))\n",
    "#        bw_image = cv2.cvtColor(image, cv2.COLOR_BGR2GRAY)\n",
    "#        h, w = bw_image.shape\n",
    "#        cropped_img = bw_image[0:w, 0:w]\n",
    "\n",
    "#        cv2.imwrite(os.path.join(output_folder, f\"{i+1}.png\"), cropped_img)\n",
    "#        i += 1"
   ]
  },
  {
   "cell_type": "code",
   "execution_count": 23,
   "id": "781e05c2-8d67-4105-8969-3945e33b1289",
   "metadata": {},
   "outputs": [],
   "source": [
    "#input_folder = \"data/diamonds_bw\"\n",
    "#output_folder = \"data/diamonds_bw/train_A\"\n",
    "\n",
    "#i = 0\n",
    "#for filename in os.listdir(input_folder):\n",
    "#    if filename.endswith((\".png\")):\n",
    "#        image = cv2.imread(os.path.join(input_folder, filename))\n",
    "#        bw_image = cv2.cvtColor(image, cv2.COLOR_BGR2GRAY)\n",
    "#        cropped_img = bw_image[0:646, 0:646]\n",
    "#        cv2.imwrite(os.path.join(output_folder, f\"{filename}\"), cropped_img)\n",
    "#        #i += 1\n",
    "  "
   ]
  },
  {
   "cell_type": "code",
   "execution_count": 6,
   "id": "864f5c2d-2dac-4317-9ab6-98bc64a4ba1a",
   "metadata": {},
   "outputs": [],
   "source": [
    "input_folder = \"data/diamonds_bw_512/test_B\"\n",
    "output_folder = \"data/diamonds_bw_256/test_B\"\n",
    "\n",
    "i = 0\n",
    "for filename in os.listdir(input_folder):\n",
    "    if filename.endswith((\".png\")):\n",
    "        image = cv2.imread(os.path.join(input_folder, filename))\n",
    "        bw_image = cv2.cvtColor(image, cv2.COLOR_BGR2GRAY)\n",
    "        cropped_img = bw_image[128:384, 128:384]\n",
    "        #resized_img = cv2.resize(bw_image, (256, 256), interpolation=cv2.INTER_LANCZOS4)\n",
    "        cv2.imwrite(os.path.join(output_folder, f\"{filename}\"), cropped_img)"
   ]
  },
  {
   "cell_type": "code",
   "execution_count": null,
   "id": "25717563-f50e-4f01-b1de-0c9686381c13",
   "metadata": {},
   "outputs": [],
   "source": []
  }
 ],
 "metadata": {
  "kernelspec": {
   "display_name": "Python 3 (ipykernel)",
   "language": "python",
   "name": "python3"
  },
  "language_info": {
   "codemirror_mode": {
    "name": "ipython",
    "version": 3
   },
   "file_extension": ".py",
   "mimetype": "text/x-python",
   "name": "python",
   "nbconvert_exporter": "python",
   "pygments_lexer": "ipython3",
   "version": "3.10.12"
  }
 },
 "nbformat": 4,
 "nbformat_minor": 5
}
